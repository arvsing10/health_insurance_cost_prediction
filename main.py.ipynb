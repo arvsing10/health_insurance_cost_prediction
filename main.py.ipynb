{
 "cells": [
  {
   "cell_type": "code",
   "execution_count": null,
   "metadata": {},
   "outputs": [
    {
     "name": "stdout",
     "output_type": "stream",
     "text": [
      " * Serving Flask app \"__main__\" (lazy loading)\n",
      " * Environment: production\n",
      "   WARNING: This is a development server. Do not use it in a production deployment.\n",
      "   Use a production WSGI server instead.\n",
      " * Debug mode: on\n"
     ]
    },
    {
     "name": "stderr",
     "output_type": "stream",
     "text": [
      " * Running on http://127.0.0.1:5000/ (Press CTRL+C to quit)\n",
      "127.0.0.1 - - [20/Oct/2020 22:39:10] \"\u001b[37mGET / HTTP/1.1\u001b[0m\" 200 -\n",
      "127.0.0.1 - - [20/Oct/2020 22:39:23] \"\u001b[37mPOST /predict HTTP/1.1\u001b[0m\" 200 -\n"
     ]
    }
   ],
   "source": [
    "# -*- coding: utf-8 -*-\n",
    "\n",
    "from flask import Flask,render_template,request\n",
    "import numpy as np\n",
    "import joblib\n",
    "app=Flask(__name__)\n",
    "\n",
    "model=joblib.load(\"insurance.joblib\")\n",
    "@app.route(\"/\")\n",
    "def home():\n",
    "    return render_template(\"newindex.html\")\n",
    "@app.route(\"/predict\", methods=[\"POST\"])\n",
    "def predict():\n",
    "    value=[int(x) for x in request.form.values()]\n",
    "    para=[np.array(value)]\n",
    "   # para= numpy.asmatrix(value)\n",
    "    #para = para.reshape(-1, 1)\n",
    "    \n",
    "    prediction=model.predict(para)\n",
    "    output=prediction[0]\n",
    "    \n",
    "    #return (output)\n",
    "    return render_template(\"newindex.html\", prediction=output)\n",
    "if __name__== \"__main__\" :\n",
    "    app.run(debug=True,use_reloader=False)"
   ]
  },
  {
   "cell_type": "code",
   "execution_count": null,
   "metadata": {},
   "outputs": [],
   "source": []
  }
 ],
 "metadata": {
  "kernelspec": {
   "display_name": "Python 3",
   "language": "python",
   "name": "python3"
  },
  "language_info": {
   "codemirror_mode": {
    "name": "ipython",
    "version": 3
   },
   "file_extension": ".py",
   "mimetype": "text/x-python",
   "name": "python",
   "nbconvert_exporter": "python",
   "pygments_lexer": "ipython3",
   "version": "3.7.7"
  }
 },
 "nbformat": 4,
 "nbformat_minor": 4
}
